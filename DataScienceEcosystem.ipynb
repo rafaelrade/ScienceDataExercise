{
 "cells": [
  {
   "cell_type": "markdown",
   "id": "a0cda023-d5d4-4da1-bc4e-04f09d479fe7",
   "metadata": {},
   "source": [
    "# Data Science Tools and Ecosystem"
   ]
  },
  {
   "cell_type": "markdown",
   "id": "a438b271-d274-437b-8c23-de325eecb8d4",
   "metadata": {},
   "source": [
    "In this notebook, Data Science Tools and Ecosystem are summarized."
   ]
  },
  {
   "cell_type": "markdown",
   "id": "6fd747ec-827c-46ec-9af6-90f834d7c4fe",
   "metadata": {},
   "source": [
    "**Objectives:**\n",
    "+ Create a Jupyter Notebook\n",
    "+ Insert code and markdown cells\n",
    "+ Share your notebook through GitHub\n"
   ]
  },
  {
   "cell_type": "markdown",
   "id": "ae1768f6-1589-464e-86f4-ada4cfc62dbb",
   "metadata": {},
   "source": [
    "Some of the popular languages that Data Scientists use are:\n",
    "1. Python\n",
    "2. R\n",
    "3. SQL\n",
    "4. Julia\n",
    "5. Scala"
   ]
  },
  {
   "cell_type": "markdown",
   "id": "7200b336-ddf0-4682-b4b7-9fb526b85158",
   "metadata": {},
   "source": [
    "Some of the commonly used libraries used by Data Scientists include:\n",
    "1. NumPy\n",
    "2. Pandas\n",
    "3. Matplotlib\n",
    "4. Scikit-learn\n",
    "5. TensorFlow\n"
   ]
  },
  {
   "cell_type": "markdown",
   "id": "3e27d265-b14b-4164-bf29-ce85831b9b5f",
   "metadata": {},
   "source": [
    "|Data Science Tools|\n",
    "---\n",
    "|Anaconda|\n",
    "|R|\n",
    "| MySQL|\n"
   ]
  },
  {
   "cell_type": "markdown",
   "id": "9002d6c4-27c7-4e96-9af4-3f947b20bb5c",
   "metadata": {},
   "source": [
    "### Below are a few examples of evaluating arithmetic expressions in Python\n",
    "(3*4)+5"
   ]
  },
  {
   "cell_type": "code",
   "execution_count": 6,
   "id": "38b25982-8bd9-4044-8b8d-f8d2c2b9a1c1",
   "metadata": {},
   "outputs": [
    {
     "data": {
      "text/plain": [
       "17"
      ]
     },
     "execution_count": 6,
     "metadata": {},
     "output_type": "execute_result"
    }
   ],
   "source": [
    "#This a simple arithmetic expression to mutiply then add integers\n",
    "(3*4)+5"
   ]
  },
  {
   "cell_type": "code",
   "execution_count": 5,
   "id": "df5076ce-882c-48fc-82f2-cbdf0e07b84a",
   "metadata": {
    "scrolled": true
   },
   "outputs": [
    {
     "name": "stdout",
     "output_type": "stream",
     "text": [
      "200 min are equivalent to: 3 h 20\n"
     ]
    }
   ],
   "source": [
    "#This will convert 200 minutes to hours by diving by 60.\n",
    "TM=200 #Total Minutes\n",
    "MPH=60 #Minutes per Hour\n",
    "RM = TM%MPH # remaing minutes\n",
    "RH = TM//MPH # remaining Hours\n",
    "print(\"200 min are equivalent to:\", RH, \"h\",RM)\n",
    "\n"
   ]
  },
  {
   "cell_type": "markdown",
   "id": "3120a0a4-1197-4c17-baa2-1eb28b77ebcf",
   "metadata": {},
   "source": [
    "Exercise 11 - Create a markdown cell to indicate the Author's name\n",
    "\n",
    "In this markdown cell markdown cell include the following text Author in H2 style heading. Include your name as regular text below the word Author.\n",
    "\n",
    "Take a screenshot of the markdown cell and name it as 11-authordetails.png"
   ]
  },
  {
   "cell_type": "markdown",
   "id": "90fe850d-b075-420d-bab9-98ed89dc55a9",
   "metadata": {},
   "source": [
    "## Author\n",
    "Rafael Rade Pacheco"
   ]
  },
  {
   "cell_type": "code",
   "execution_count": null,
   "id": "5159e50d-a699-4d7d-8acc-b7eae730bab3",
   "metadata": {},
   "outputs": [],
   "source": []
  }
 ],
 "metadata": {
  "kernelspec": {
   "display_name": "anaconda-2024.02-py310",
   "language": "python",
   "name": "conda-env-anaconda-2024.02-py310-py"
  },
  "language_info": {
   "codemirror_mode": {
    "name": "ipython",
    "version": 3
   },
   "file_extension": ".py",
   "mimetype": "text/x-python",
   "name": "python",
   "nbconvert_exporter": "python",
   "pygments_lexer": "ipython3",
   "version": "3.10.14"
  }
 },
 "nbformat": 4,
 "nbformat_minor": 5
}
