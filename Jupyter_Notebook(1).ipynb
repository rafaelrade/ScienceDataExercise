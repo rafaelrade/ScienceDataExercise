{
 "cells": [
  {
   "cell_type": "markdown",
   "metadata": {},
   "source": [
    "<center>\n",
    "    <img src=\"https://cf-courses-data.s3.us.cloud-object-storage.appdomain.cloud/IBMDeveloperSkillsNetwork-DS0105EN-SkillsNetwork/labs/Module2/images/SN_web_lightmode.png\" width=\"300\" alt=\"cognitiveclass.ai logo\">\n",
    "</center>\n"
   ]
  },
  {
   "cell_type": "markdown",
   "metadata": {},
   "source": [
    "# Hands-on Lab: Create your Jupyter Notebook\n"
   ]
  },
  {
   "cell_type": "markdown",
   "metadata": {},
   "source": [
    "#### Add your code below following the instructions given in the course\n"
   ]
  },
  {
   "cell_type": "markdown",
   "metadata": {},
   "source": [
    "Data Science Tools and Ecosystem\n",
    "\n",
    "In this notebook, Data Science Tools and Ecosystem are summarized.\n",
    "\n",
    "Objectives:\n",
    "\n",
    "    Create a Jupyter Notebook\n",
    "    Insert code and markdown cells\n",
    "    Share your notebook through GitHub\n",
    "\n",
    "Some of the popular languages that Data Scientists use are:\n",
    "\n",
    "    Python\n",
    "    R\n",
    "    SQL\n",
    "    Julia\n",
    "    Scala\n",
    "\n",
    "Some of the commonly used libraries used by Data Scientists include:\n",
    "\n",
    "    NumPy\n",
    "    Pandas\n",
    "    Matplotlib\n",
    "    Scikit-learn\n",
    "    TensorFlow\n",
    "\n",
    "Data Science Tools\n",
    "Anaconda\n",
    "R\n",
    "MySQL\n",
    "Below are a few examples of evaluating arithmetic expressions in Python\n",
    "\n",
    "(3*4)+5\n",
    "#This a simple arithmetic expression to mutiply then add integers\n",
    "(3*4)+5\n",
    "\n",
    "17\n",
    "\n",
    "#This will convert 200 minutes to hours by diving by 60.\n",
    "TM=200 #Total Minutes\n",
    "MPH=60 #Minutes per Hour\n",
    "RM = TM%MPH # remaing minutes\n",
    "RH = TM//MPH # remaining Hours\n",
    "print(\"200 min are equivalent to:\", RH, \"h\",RM)\n",
    "\n",
    "\n",
    "200 min are equivalent to: 3 h 20\n",
    "\n",
    "Author\n",
    "\n",
    "Rafael Rade Pacheco\n",
    "\n"
   ]
  },
  {
   "cell_type": "markdown",
   "metadata": {},
   "source": [
    "Copyright ©2024 IBM Corporation. All rights reserved.\n"
   ]
  }
 ],
 "metadata": {
  "kernelspec": {
   "display_name": "anaconda-2024.02-py310",
   "language": "python",
   "name": "conda-env-anaconda-2024.02-py310-py"
  },
  "language_info": {
   "codemirror_mode": {
    "name": "ipython",
    "version": 3
   },
   "file_extension": ".py",
   "mimetype": "text/x-python",
   "name": "python",
   "nbconvert_exporter": "python",
   "pygments_lexer": "ipython3",
   "version": "3.10.14"
  },
  "prev_pub_hash": "9e1985db9844176462bd1d5863048c9f3d17404bbc6a648be9084b0c42b29347"
 },
 "nbformat": 4,
 "nbformat_minor": 4
}
